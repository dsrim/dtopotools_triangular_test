{
 "cells": [
  {
   "cell_type": "code",
   "execution_count": null,
   "metadata": {},
   "outputs": [],
   "source": [
    "%matplotlib inline"
   ]
  },
  {
   "cell_type": "code",
   "execution_count": null,
   "metadata": {},
   "outputs": [],
   "source": [
    "from clawpack.geoclaw import dtopotools\n",
    "import numpy as np\n",
    "import matplotlib.pyplot as pl"
   ]
  },
  {
   "cell_type": "markdown",
   "metadata": {},
   "source": [
    "## Comninou & Dundurs model (Okada model for triangular faults)"
   ]
  },
  {
   "cell_type": "markdown",
   "metadata": {},
   "source": [
    "In this notebook, we will check the results for the newly written Comninou & Dundurs model in `dtopotools`, which computes the elastic half-space deformations due to triangular faults.\n",
    "\n",
    "This code currently is stored in: \n",
    "   \n",
    "   * the fork `github.com/dsrim/geoclaw` in the branch `triangular_angular`.\n",
    "\n",
    "First, we load a `SiftFault` to import a rectangular fault"
   ]
  },
  {
   "cell_type": "code",
   "execution_count": null,
   "metadata": {},
   "outputs": [],
   "source": [
    "fault = dtopotools.SiftFault({'acszb2':1.})\n",
    "subfault0 = fault.subfaults[0]"
   ]
  },
  {
   "cell_type": "markdown",
   "metadata": {},
   "source": [
    "Then, we first compute the seafloor deformation using the Okada model"
   ]
  },
  {
   "cell_type": "code",
   "execution_count": null,
   "metadata": {},
   "outputs": [],
   "source": [
    "# Find a sufficiently large rectangle containing the fault\n",
    "lims = fault.containing_rect()\n",
    "slip = 1.\n",
    "\n",
    "# setting limits to compute the deformations\n",
    "x0 = lims[0]-1.\n",
    "x1 = lims[1]+1.\n",
    "\n",
    "y0 = lims[2]-1.\n",
    "y1 = lims[3]+1.\n",
    "\n",
    "x = np.linspace(x0,x1,100)\n",
    "y = np.linspace(y0,y1,100)\n",
    "fault.subfaults[0].slip = slip\n",
    "dtopo0 = fault.create_dtopography(x,y,times=[0.])"
   ]
  },
  {
   "cell_type": "code",
   "execution_count": null,
   "metadata": {
    "scrolled": false
   },
   "outputs": [],
   "source": [
    "dtopo0.plot_dZ_colors(0.);"
   ]
  },
  {
   "cell_type": "markdown",
   "metadata": {},
   "source": [
    "The *strike*, *dip*, *rake*, *depth*, *width*, and *length* of this fault is given as:"
   ]
  },
  {
   "cell_type": "code",
   "execution_count": null,
   "metadata": {},
   "outputs": [],
   "source": [
    "print('strike = ' + '{:6.2f}'.format(subfault0.strike))\n",
    "print('dip = ' + '{:6.2f}'.format(subfault0.dip))\n",
    "print('rake = ' + '{:6.2f}'.format(subfault0.rake))\n",
    "print('depth = ' + '{:6.2f}'.format(subfault0.depth))\n",
    "print('width = ' + '{:6.2f}'.format(subfault0.width))\n",
    "print('length = ' + '{:6.2f}'.format(subfault0.length))"
   ]
  },
  {
   "cell_type": "markdown",
   "metadata": {},
   "source": [
    "The long-lat coordinates of the four vertices of the rectangle is stored in the variable `subfault0.corners`:"
   ]
  },
  {
   "cell_type": "code",
   "execution_count": null,
   "metadata": {},
   "outputs": [],
   "source": [
    "print('four corners = ')\n",
    "print(np.array(subfault0.corners))"
   ]
  },
  {
   "cell_type": "markdown",
   "metadata": {},
   "source": [
    "### Setting up a triangular fault\n",
    "\n",
    "A triangular fault is designated by supplying the long-lat-depth coordinates of the three corners to the subfault `subfault.set_corners` routine."
   ]
  },
  {
   "cell_type": "code",
   "execution_count": null,
   "metadata": {},
   "outputs": [],
   "source": [
    "rect_corners = subfault0.corners\n",
    "\n",
    "subfault1 = dtopotools.SubFault()\n",
    "subfault2 = dtopotools.SubFault()\n",
    "\n",
    "subfault1.set_corners([rect_corners[0],rect_corners[1],rect_corners[2]])\n",
    "subfault2.set_corners([rect_corners[0],rect_corners[2],rect_corners[3]])"
   ]
  },
  {
   "cell_type": "code",
   "execution_count": null,
   "metadata": {},
   "outputs": [],
   "source": [
    "print('corners for subfault 1 =')\n",
    "print(np.array(subfault1.corners))\n",
    "print(' ')\n",
    "print('corners for subfault 2 =')\n",
    "print(np.array(subfault2.corners))"
   ]
  },
  {
   "cell_type": "code",
   "execution_count": null,
   "metadata": {},
   "outputs": [],
   "source": [
    "print('subfault0 strike: ' + '{:6.2f}'.format( subfault1.strike))\n",
    "print('subfault1 strike: ' + '{:6.2f}'.format( subfault2.strike))\n",
    "print('strike difference: ' + '{:6.2f}'.format( subfault2.strike - subfault1.strike))\n",
    "print('---')\n",
    "print('subfault0 dip: ' + '{:6.2f}'.format( subfault1.dip))\n",
    "print('subfault1 dip: ' + '{:6.2f}'.format( subfault2.dip))\n",
    "print('---')\n",
    "print('subfault0 depth: ' + '{:6.2f}'.format( subfault1.depth))\n",
    "print('subfault1 depth: ' + '{:6.2f}'.format( subfault2.depth))\n",
    "print('---')\n",
    "print('subfault0 rake: ' + '{:6.2f}'.format( subfault1.rake))\n",
    "print('subfault1 rake: ' + '{:6.2f}'.format( subfault2.rake))\n",
    "print('---')\n",
    "print('subfault0 unit slip vector: ' + str(subfault1._get_unit_slip_vector()))\n",
    "print('subfault1 unit slip vector: ' + str(subfault2._get_unit_slip_vector()))"
   ]
  },
  {
   "cell_type": "code",
   "execution_count": null,
   "metadata": {},
   "outputs": [],
   "source": [
    "rake = 90.\n",
    "\n",
    "subfault1.rake = rake\n",
    "subfault2.rake = rake\n",
    "\n",
    "subfault1.slip = slip\n",
    "subfault2.slip = slip\n",
    "\n",
    "# put two subfaults into a fault\n",
    "fault1 = dtopotools.Fault()\n",
    "fault1.subfaults = []\n",
    "fault1.subfaults.append(subfault1)\n",
    "fault1.subfaults.append(subfault2)\n",
    "\n",
    "# compute deformation\n",
    "dtopo1 = fault1.create_dtopography(x,y,times=[0.]);\n",
    "\n",
    "print('deformation from two triangular faults to the left, Okada to the right')\n",
    "fig,ax = pl.subplots(nrows=1, ncols=2, figsize=(13,5))\n",
    "dtopo1.plot_dZ_colors(0.,axes = ax[0], cmax_dZ=0.4, dZ_interval=0.05);\n",
    "dtopo0.plot_dZ_colors(0.,axes = ax[1], cmax_dZ=0.4, dZ_interval=0.05);"
   ]
  },
  {
   "cell_type": "code",
   "execution_count": null,
   "metadata": {},
   "outputs": [],
   "source": [
    "ddZ = dtopo1.dZ[-1,:,:] - dtopo0.dZ[-1,:,:]\n",
    "print('min /max of ddZ: ', (ddZ.min(), ddZ.max()))\n",
    "\n",
    "cm=pl.get_cmap('seismic')\n",
    "fault1.plot_subfaults();\n",
    "pl.contourf(x,y,ddZ,np.linspace(-.04,.04,10),cmap=cm)\n",
    "pl.xlim(164,167)\n",
    "pl.ylim(54.,56)\n",
    "pl.colorbar();"
   ]
  },
  {
   "cell_type": "code",
   "execution_count": null,
   "metadata": {},
   "outputs": [],
   "source": [
    "print('Plot of the two triangular subfaults')\n",
    "fault1.plot_subfaults();"
   ]
  },
  {
   "cell_type": "code",
   "execution_count": null,
   "metadata": {},
   "outputs": [],
   "source": [
    "print('mean error = ' + '{:6.4f}'.format(np.mean(np.abs(dtopo1.dZ - dtopo0.dZ))))"
   ]
  },
  {
   "cell_type": "code",
   "execution_count": null,
   "metadata": {
    "scrolled": false
   },
   "outputs": [],
   "source": [
    "f,ax = pl.subplots(nrows=1,ncols=2,figsize=(13,5));\n",
    "\n",
    "dtopoT1 = subfault1.okada(x,y)\n",
    "dtopoT2 = subfault2.okada(x,y)\n",
    "\n",
    "print('deformations from two triangles separately')\n",
    "dtopoT1.plot_dZ_colors(0.,axes=ax[0]);\n",
    "dtopoT2.plot_dZ_colors(0.,axes=ax[1]);"
   ]
  },
  {
   "cell_type": "markdown",
   "metadata": {},
   "source": [
    "## TODO\n",
    "\n",
    "* bulk set a lot of triangles through an attribute function for `Fault` object\n",
    "* read / write, especially for slab format"
   ]
  },
  {
   "cell_type": "markdown",
   "metadata": {},
   "source": [
    "## Try subdividing fault to get better agreement?"
   ]
  },
  {
   "cell_type": "code",
   "execution_count": null,
   "metadata": {},
   "outputs": [],
   "source": [
    "fault2 = dtopotools.SubdividedPlaneFault(subfault0, nstrike=8, ndip=4)"
   ]
  },
  {
   "cell_type": "code",
   "execution_count": null,
   "metadata": {},
   "outputs": [],
   "source": [
    "fault2.plot_subfaults()"
   ]
  },
  {
   "cell_type": "code",
   "execution_count": null,
   "metadata": {
    "collapsed": false
   },
   "outputs": [],
   "source": [
    "# compute deformation\n",
    "dtopo2 = fault2.create_dtopography(x,y,times=[0.]);"
   ]
  },
  {
   "cell_type": "code",
   "execution_count": null,
   "metadata": {},
   "outputs": [],
   "source": [
    "fault3 = dtopotools.Fault()\n",
    "fault3.subfaults = []\n",
    "for s in fault2.subfaults:\n",
    "    rect_corners = s.corners\n",
    "    subfault1 = dtopotools.SubFault()\n",
    "    subfault2 = dtopotools.SubFault()\n",
    "    subfault1.slip = slip\n",
    "    subfault2.slip = slip\n",
    "    subfault1.set_corners([rect_corners[0],rect_corners[1],rect_corners[2]])\n",
    "    subfault2.set_corners([rect_corners[0],rect_corners[2],rect_corners[3]])\n",
    "    #print(subfault1.latitude, subfault1.longitude)\n",
    "    fault3.subfaults.append(subfault1)\n",
    "    fault3.subfaults.append(subfault2)"
   ]
  },
  {
   "cell_type": "code",
   "execution_count": null,
   "metadata": {},
   "outputs": [],
   "source": [
    "fault3.plot_subfaults()"
   ]
  },
  {
   "cell_type": "code",
   "execution_count": null,
   "metadata": {},
   "outputs": [],
   "source": [
    "# compute deformation\n",
    "dtopo3 = fault3.create_dtopography(x,y,times=[0.]);\n",
    "\n",
    "print('deformation from triangulation to the left, Okada to the right')\n",
    "fig,ax = pl.subplots(nrows=1, ncols=2, figsize=(13,5))\n",
    "dtopo3.plot_dZ_colors(0.,axes = ax[0], cmax_dZ=0.4, dZ_interval=0.05);\n",
    "dtopo2.plot_dZ_colors(0.,axes = ax[1], cmax_dZ=0.4, dZ_interval=0.05);"
   ]
  },
  {
   "cell_type": "code",
   "execution_count": null,
   "metadata": {},
   "outputs": [],
   "source": [
    "ddZ = dtopo3.dZ[-1,:,:] - dtopo2.dZ[-1,:,:]\n",
    "print('min /max of ddZ: ', (ddZ.min(), ddZ.max()))\n",
    "\n",
    "cm=pl.get_cmap('seismic')\n",
    "fault3.plot_subfaults();\n",
    "pl.contourf(x,y,ddZ,np.linspace(-.04,.04,10),cmap=cm)\n",
    "pl.xlim(164,167)\n",
    "pl.ylim(54.,56)\n",
    "pl.colorbar();"
   ]
  },
  {
   "cell_type": "code",
   "execution_count": null,
   "metadata": {
    "collapsed": false
   },
   "outputs": [],
   "source": []
  }
 ],
 "metadata": {
  "kernelspec": {
   "display_name": "Python 2",
   "language": "python",
   "name": "python2"
  },
  "language_info": {
   "codemirror_mode": {
    "name": "ipython",
    "version": 3
   },
   "file_extension": ".py",
   "mimetype": "text/x-python",
   "name": "python",
   "nbconvert_exporter": "python",
   "pygments_lexer": "ipython3",
   "version": "3.5.2"
  }
 },
 "nbformat": 4,
 "nbformat_minor": 1
}
