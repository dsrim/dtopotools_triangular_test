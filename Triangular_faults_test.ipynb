{
 "cells": [
  {
   "cell_type": "code",
   "execution_count": 1,
   "metadata": {
    "collapsed": true
   },
   "outputs": [],
   "source": [
    "%matplotlib inline"
   ]
  },
  {
   "cell_type": "code",
   "execution_count": 2,
   "metadata": {
    "collapsed": false
   },
   "outputs": [],
   "source": [
    "from clawpack.geoclaw import dtopotools\n",
    "import numpy as np"
   ]
  },
  {
   "cell_type": "code",
   "execution_count": 3,
   "metadata": {
    "collapsed": true
   },
   "outputs": [],
   "source": [
    "# add two subfaults\n",
    "\n",
    "#subfault0\n",
    "subfault0 = dtopotools.SubFault()\n",
    "subfault0.slip = 1.\n",
    "subfault0.coordinate_specification = 'triangular'\n",
    "subfault0._corners = [[2.5,1.9,-10e3],[1.9,2.5,-11e3],[2.5,2.5,-10e3]]\n",
    "subfault0.calculate_geometry_triangles()\n",
    "subfault0.rake = 270."
   ]
  },
  {
   "cell_type": "code",
   "execution_count": 4,
   "metadata": {
    "collapsed": false
   },
   "outputs": [],
   "source": [
    "subfault1 = dtopotools.SubFault()\n",
    "subfault1.slip = 1.\n",
    "subfault1.coordinate_specification = 'triangular'\n",
    "subfault1._corners = [[.5,0.,-1e3],[0.,.5,-1e3],[.5,.5,0.]]\n",
    "subfault1.calculate_geometry_triangles()"
   ]
  },
  {
   "cell_type": "code",
   "execution_count": 5,
   "metadata": {
    "collapsed": false
   },
   "outputs": [
    {
     "data": {
      "text/plain": [
       "[[2.5, 1.9, -10000.0], [1.9, 2.5, -11000.0], [2.5, 2.5, -10000.0]]"
      ]
     },
     "execution_count": 5,
     "metadata": {},
     "output_type": "execute_result"
    }
   ],
   "source": [
    "subfault0.corners"
   ]
  },
  {
   "cell_type": "code",
   "execution_count": 6,
   "metadata": {
    "collapsed": false
   },
   "outputs": [
    {
     "data": {
      "text/plain": [
       "(array([[ 0.,  0., -9.]]),\n",
       " array([[ 0.,  0.,  0.]]),\n",
       " array([[  0.,   0.,  11.]]),\n",
       " array([[ 0.,  0.,  0.]]))"
      ]
     },
     "execution_count": 6,
     "metadata": {},
     "output_type": "execute_result"
    }
   ],
   "source": [
    "from numpy import pi\n",
    "\n",
    "# subfault0._get_halfspace_coords?\n",
    "x = np.array([[0.,0.,1.]])\n",
    "subfault0._get_halfspace_coords(x,np.pi/2.,np.pi/3,0,0,10)"
   ]
  },
  {
   "cell_type": "code",
   "execution_count": 7,
   "metadata": {
    "collapsed": false
   },
   "outputs": [
    {
     "name": "stdout",
     "output_type": "stream",
     "text": [
      "0.99999964\n",
      "-0.99999982\n",
      "0.0\n"
     ]
    },
    {
     "data": {
      "text/plain": [
       "[0.00084852793381536191, 0.00059999992798065449, 1.5707963267948966]"
      ]
     },
     "execution_count": 7,
     "metadata": {},
     "output_type": "execute_result"
    }
   ],
   "source": [
    "subfault0._get_angular_params()"
   ]
  },
  {
   "cell_type": "code",
   "execution_count": 10,
   "metadata": {
    "collapsed": false
   },
   "outputs": [
    {
     "data": {
      "text/plain": [
       "0.9999999934451599"
      ]
     },
     "execution_count": 10,
     "metadata": {},
     "output_type": "execute_result"
    }
   ],
   "source": [
    "0.5**2 + 0.8660254**2"
   ]
  },
  {
   "cell_type": "code",
   "execution_count": 4,
   "metadata": {
    "collapsed": false
   },
   "outputs": [],
   "source": [
    "# choose number of Gaussian quadrature points\n",
    "subfault0.n_gauss_pts = 20\n",
    "subfault1.n_gauss_pts = 40"
   ]
  },
  {
   "cell_type": "code",
   "execution_count": 5,
   "metadata": {
    "collapsed": false
   },
   "outputs": [
    {
     "name": "stderr",
     "output_type": "stream",
     "text": [
      "/usr/local/lib/python2.7/site-packages/matplotlib/axes/_base.py:1057: UnicodeWarning: Unicode equal comparison failed to convert both arguments to Unicode - interpreting them as being unequal\n",
      "  if aspect == 'normal':\n",
      "/usr/local/lib/python2.7/site-packages/matplotlib/axes/_base.py:1062: UnicodeWarning: Unicode equal comparison failed to convert both arguments to Unicode - interpreting them as being unequal\n",
      "  elif aspect in ('equal', 'auto'):\n"
     ]
    },
    {
     "data": {
      "text/plain": [
       "<matplotlib.axes._subplots.AxesSubplot at 0x10a1b04d0>"
      ]
     },
     "execution_count": 5,
     "metadata": {},
     "output_type": "execute_result"
    },
    {
     "name": "stderr",
     "output_type": "stream",
     "text": [
      "/usr/local/lib/python2.7/site-packages/matplotlib/collections.py:590: FutureWarning: elementwise comparison failed; returning scalar instead, but in the future will perform elementwise comparison\n",
      "  if self._edgecolors == str('face'):\n"
     ]
    },
    {
     "data": {
      "image/png": "[encoded data removed]",
      "text/plain": [
       "<matplotlib.figure.Figure at 0x10a1b0810>"
      ]
     },
     "metadata": {},
     "output_type": "display_data"
    }
   ],
   "source": [
    "fault0 = dtopotools.Fault(subfaults=[subfault0,subfault1])\n",
    "\n",
    "fault0.plot_subfaults(slip_color=True,plot_rake=True,cmin_slip=0.,cmax_slip=5.)"
   ]
  },
  {
   "cell_type": "code",
   "execution_count": 6,
   "metadata": {
    "collapsed": false
   },
   "outputs": [
    {
     "name": "stdout",
     "output_type": "stream",
     "text": [
      "7.41866535319\n",
      "2.7445291166e+19\n"
     ]
    }
   ],
   "source": [
    "print fault0.Mw()\n",
    "print subfault0.length * subfault0.width * (dtopotools.LAT2METER)**2"
   ]
  },
  {
   "cell_type": "code",
   "execution_count": 7,
   "metadata": {
    "collapsed": false
   },
   "outputs": [
    {
     "ename": "NameError",
     "evalue": "name 'np' is not defined",
     "output_type": "error",
     "traceback": [
      "\u001b[0;31m---------------------------------------------------------------------------\u001b[0m",
      "\u001b[0;31mNameError\u001b[0m                                 Traceback (most recent call last)",
      "\u001b[0;32m<ipython-input-7-56ae06965a55>\u001b[0m in \u001b[0;36m<module>\u001b[0;34m()\u001b[0m\n\u001b[0;32m----> 1\u001b[0;31m \u001b[0msubfault0\u001b[0m\u001b[0;34m.\u001b[0m\u001b[0mrake\u001b[0m \u001b[0;34m*\u001b[0m \u001b[0mdtopotools\u001b[0m\u001b[0;34m.\u001b[0m\u001b[0mDEG2RAD\u001b[0m \u001b[0;34m/\u001b[0m \u001b[0mnp\u001b[0m\u001b[0;34m.\u001b[0m\u001b[0mpi\u001b[0m\u001b[0;34m\u001b[0m\u001b[0m\n\u001b[0m",
      "\u001b[0;31mNameError\u001b[0m: name 'np' is not defined"
     ]
    }
   ],
   "source": [
    "subfault0.rake * dtopotools.DEG2RAD / np.pi"
   ]
  },
  {
   "cell_type": "code",
   "execution_count": 8,
   "metadata": {
    "collapsed": false
   },
   "outputs": [
    {
     "name": "stderr",
     "output_type": "stream",
     "text": [
      "/usr/local/lib/python2.7/site-packages/matplotlib/collections.py:650: FutureWarning: elementwise comparison failed; returning scalar instead, but in the future will perform elementwise comparison\n",
      "  if self._edgecolors_original != str('face'):\n"
     ]
    },
    {
     "data": {
      "text/plain": [
       "<matplotlib.axes._subplots.AxesSubplot at 0x10a522610>"
      ]
     },
     "execution_count": 8,
     "metadata": {},
     "output_type": "execute_result"
    },
    {
     "data": {
      "image/png": "[encoded data removed]",
      "text/plain": [
       "<matplotlib.figure.Figure at 0x10a1b0390>"
      ]
     },
     "metadata": {},
     "output_type": "display_data"
    }
   ],
   "source": [
    "# generate dtopo\n",
    "x,y = fault0.create_dtopo_xy(buffer_size=0.1)\n",
    "dtopo = fault0.create_dtopography(x,y,times=[0.])\n",
    "\n",
    "# plot deformation dZ at time 0.\n",
    "dtopo.plot_dZ_colors(0.)"
   ]
  },
  {
   "cell_type": "code",
   "execution_count": 17,
   "metadata": {
    "collapsed": true
   },
   "outputs": [],
   "source": [
    "import numpy as np"
   ]
  },
  {
   "cell_type": "code",
   "execution_count": 9,
   "metadata": {
    "collapsed": false
   },
   "outputs": [
    {
     "name": "stdout",
     "output_type": "stream",
     "text": [
      "21833213081.4\n"
     ]
    }
   ],
   "source": [
    "x = np.linspace(-1.,1.,200)\n",
    "y = np.linspace(-1.,1.,200)\n",
    "\n",
    "Dtopo = subfault0.okada(x,y)"
   ]
  },
  {
   "cell_type": "code",
   "execution_count": 15,
   "metadata": {
    "collapsed": false
   },
   "outputs": [
    {
     "name": "stdout",
     "output_type": "stream",
     "text": [
      "(200, 200)\n",
      "10.0\n",
      "45.0\n"
     ]
    }
   ],
   "source": [
    "print subfault0.dtopo.dZ[0,:,:].shape\n",
    "print subfault0.slip\n",
    "print subfault0.dip"
   ]
  },
  {
   "cell_type": "code",
   "execution_count": 16,
   "metadata": {
    "collapsed": false
   },
   "outputs": [
    {
     "data": {
      "text/plain": [
       "111133.84012073894"
      ]
     },
     "execution_count": 16,
     "metadata": {},
     "output_type": "execute_result"
    }
   ],
   "source": [
    "dtopotools.LAT2METER"
   ]
  },
  {
   "cell_type": "code",
   "execution_count": 17,
   "metadata": {
    "collapsed": false
   },
   "outputs": [
    {
     "data": {
      "text/plain": [
       "<matplotlib.axes._subplots.AxesSubplot at 0x10b237150>"
      ]
     },
     "execution_count": 17,
     "metadata": {},
     "output_type": "execute_result"
    },
    {
     "data": {
      "image/png": "[encoded data removed]",
      "text/plain": [
       "<matplotlib.figure.Figure at 0x10b22c5d0>"
      ]
     },
     "metadata": {},
     "output_type": "display_data"
    }
   ],
   "source": [
    "import matplotlib.pyplot as pl\n",
    "\n",
    "# pl.pcolor(Dtopo.X,Dtopo.Y,Dtopo.dZ[0,:,:])\n",
    "# pl.colorbar()\n",
    "\n",
    "Dtopo.plot_dZ_colors(0.)"
   ]
  },
  {
   "cell_type": "code",
   "execution_count": 12,
   "metadata": {
    "collapsed": false
   },
   "outputs": [],
   "source": [
    "x,w = subfault0.gauss_pts"
   ]
  },
  {
   "cell_type": "code",
   "execution_count": 13,
   "metadata": {
    "collapsed": false
   },
   "outputs": [],
   "source": [
    "np.array?"
   ]
  },
  {
   "cell_type": "code",
   "execution_count": null,
   "metadata": {
    "collapsed": true
   },
   "outputs": [],
   "source": [
    "slab_pts = np.loadtxt('cas_slab1.0_clip.xyz')"
   ]
  },
  {
   "cell_type": "code",
   "execution_count": null,
   "metadata": {
    "collapsed": false
   },
   "outputs": [],
   "source": [
    "from scipy.spatial import Delaunay\n",
    "\n",
    "tri = Delaunay(slab_pts[:,0:2])\n"
   ]
  },
  {
   "cell_type": "code",
   "execution_count": null,
   "metadata": {
    "collapsed": true
   },
   "outputs": [],
   "source": [
    "I = np.invert(np.isnan(slab_pts[:,2]))\n",
    "c4e = []\n",
    "for j in range(tri.nsimplex):\n",
    "    node_list = tri.simplices[j,:].tolist()\n",
    "    if I[node_list[0]] and I[node_list[1]] and I[node_list[2]] :\n",
    "        c1 = slab_pts[node_list[0],:].tolist()\n",
    "        c2 = slab_pts[node_list[1],:].tolist()\n",
    "        c3 = slab_pts[node_list[2],:].tolist()\n",
    "        if (c2[1] > 49.7) and (c2[0] > -125.):\n",
    "            c4e.append([c1,c2,c3])"
   ]
  },
  {
   "cell_type": "code",
   "execution_count": null,
   "metadata": {
    "collapsed": false
   },
   "outputs": [],
   "source": [
    "import copy\n",
    "\n",
    "subfaults = []\n",
    "\n",
    "\n",
    "\n",
    "# j = 20\n",
    "\n",
    "# subfault0 = dtopotools.SubFault()\n",
    "# subfault0.coordinate_specification = 'triangular'\n",
    "# subfault0.slip = 5.\n",
    "# subfault0._corners = c4e[j]\n",
    "# subfault0.calculate_geometry_triangles()\n",
    "# subfaults.append(copy.copy(subfault0))\n",
    "\n",
    "# N = min([100,len(c4e)])\n",
    "N = len(c4e)\n",
    "for j in range(N):\n",
    "    subfault0 = dtopotools.SubFault()\n",
    "    subfault0.coordinate_specification = 'triangular'\n",
    "    subfault0.slip = 5.\n",
    "    subfault0._corners = c4e[j]\n",
    "    subfault0.calculate_geometry_triangles()\n",
    "    subfaults.append(copy.copy(subfault0))\n"
   ]
  },
  {
   "cell_type": "code",
   "execution_count": null,
   "metadata": {
    "collapsed": false
   },
   "outputs": [],
   "source": [
    "fault1 = dtopotools.Fault(subfaults=subfaults)"
   ]
  },
  {
   "cell_type": "code",
   "execution_count": null,
   "metadata": {
    "collapsed": false
   },
   "outputs": [],
   "source": [
    "fault1.containing_rect()"
   ]
  },
  {
   "cell_type": "code",
   "execution_count": null,
   "metadata": {
    "collapsed": false
   },
   "outputs": [],
   "source": [
    "import matplotlib.pyplot as pl\n",
    "\n",
    "f,ax = pl.subplots(figsize=(20,20))\n",
    "ax = fault1.plot_subfaults(axes=ax,plot_rake=True,slip_color=False,cmin_slip=0., cmax_slip=5.,verbose=True)"
   ]
  },
  {
   "cell_type": "code",
   "execution_count": null,
   "metadata": {
    "collapsed": true
   },
   "outputs": [],
   "source": []
  }
 ],
 "metadata": {
  "kernelspec": {
   "display_name": "Python 2",
   "language": "python",
   "name": "python2"
  },
  "language_info": {
   "codemirror_mode": {
    "name": "ipython",
    "version": 2
   },
   "file_extension": ".py",
   "mimetype": "text/x-python",
   "name": "python",
   "nbconvert_exporter": "python",
   "pygments_lexer": "ipython2",
   "version": "2.7.10"
  }
 },
 "nbformat": 4,
 "nbformat_minor": 0
}
