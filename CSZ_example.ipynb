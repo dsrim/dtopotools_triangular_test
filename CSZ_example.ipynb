{
 "cells": [
  {
   "cell_type": "code",
   "execution_count": 8,
   "metadata": {
    "collapsed": true
   },
   "outputs": [],
   "source": [
    "%matplotlib inline"
   ]
  },
  {
   "cell_type": "code",
   "execution_count": 9,
   "metadata": {
    "collapsed": true
   },
   "outputs": [],
   "source": [
    "from clawpack.geoclaw import dtopotools\n",
    "import numpy as np\n",
    "from copy import copy\n",
    "import matplotlib.pyplot as pl"
   ]
  },
  {
   "cell_type": "code",
   "execution_count": 10,
   "metadata": {},
   "outputs": [],
   "source": [
    "cascadia = np.loadtxt('cascadia30.mshout',skiprows=1)\n",
    "cascadia[:,[3,6,9,12]] = 1e3*abs(cascadia[:,[3,6,9,12]])"
   ]
  },
  {
   "cell_type": "code",
   "execution_count": 11,
   "metadata": {},
   "outputs": [
    {
     "name": "stdout",
     "output_type": "stream",
     "text": [
      "First triangular fault\n",
      "[  -125.237101     46.418952  10805.356   ]\n",
      "[ -125.36073     46.302805  8795.382   ]\n",
      "[  -125.311684     46.526803  10094.313   ]\n"
     ]
    }
   ],
   "source": [
    "print('First triangular fault')\n",
    "print(cascadia[0,1:4])\n",
    "print(cascadia[0,4:7])\n",
    "print(cascadia[0,7:10])"
   ]
  },
  {
   "cell_type": "code",
   "execution_count": null,
   "metadata": {},
   "outputs": [],
   "source": [
    "fault0 = dtopotools.Fault()\n",
    "fault0.subfaults = []\n",
    "rake = 90.\n",
    "slip = 1.\n",
    "\n",
    "J = int(np.floor(cascadia.shape[0]))\n",
    "\n",
    "for j in range(J):\n",
    "    subfault0 = dtopotools.SubFault()\n",
    "    subfault0.set_corners([cascadia[j,4:7].tolist(),\\\n",
    "                               cascadia[j,7:10].tolist(),\\\n",
    "                               cascadia[j,10:13].tolist()])\n",
    "    \n",
    "    subfault0.rake = rake\n",
    "    \n",
    "    # earthquake with origin at (-125, 45, 6000)\n",
    "    slip = 15.*np.exp(-np.sqrt((cascadia[j,7] + 125.)**2 + (cascadia[j,8] - 45.)**2))\n",
    "    subfault0.slip = slip\n",
    "    fault0.subfaults.append(subfault0)"
   ]
  },
  {
   "cell_type": "code",
   "execution_count": null,
   "metadata": {},
   "outputs": [],
   "source": [
    "lims = [cascadia[:,1].min(),cascadia[:,1].max(),cascadia[:,2].min(),cascadia[:,2].max()]\n",
    "\n",
    "x0 = lims[0]-1.\n",
    "x1 = lims[1]+1.\n",
    "\n",
    "y0 = lims[2]-1.\n",
    "y1 = lims[3]+1.\n",
    "\n",
    "x = np.linspace(x0,x1,100)\n",
    "y = np.linspace(y0,y1,100)\n",
    "\n",
    "dtopo0 = fault0.create_dtopography(x,y,times=[0.]);"
   ]
  },
  {
   "cell_type": "code",
   "execution_count": null,
   "metadata": {},
   "outputs": [],
   "source": [
    "fig,(ax0,ax1) = pl.subplots(ncols=2,nrows=1,figsize=(14,13))\n",
    "fault0.plot_subfaults(axes=ax0,slip_color=True);\n",
    "ax0.set_xlim([x0,x1])\n",
    "ax0.set_ylim([y0,y1])\n",
    "ax0.set_title('CSZ Fault');\n",
    "dtopo0.plot_dZ_colors(0.,axes=ax1);\n",
    "# fig.tight_layout()\n",
    "fig.savefig('CSZ_triangular.png')\n"
   ]
  }
 ],
 "metadata": {
  "kernelspec": {
   "display_name": "Python 2",
   "language": "python",
   "name": "python2"
  },
  "language_info": {
   "codemirror_mode": {
    "name": "ipython",
    "version": 2
   },
   "file_extension": ".py",
   "mimetype": "text/x-python",
   "name": "python",
   "nbconvert_exporter": "python",
   "pygments_lexer": "ipython2",
   "version": "2.7.13"
  }
 },
 "nbformat": 4,
 "nbformat_minor": 2
}
